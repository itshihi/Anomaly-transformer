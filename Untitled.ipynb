{
 "cells": [
  {
   "cell_type": "code",
   "execution_count": 7,
   "id": "e5ed3666-824d-4fdb-a9b8-3d0dd3bac6aa",
   "metadata": {},
   "outputs": [
    {
     "name": "stdout",
     "output_type": "stream",
     "text": [
      "Looking in indexes: https://download.pytorch.org/whl/cu117\n",
      "Requirement already satisfied: torch in c:\\users\\atg\\anaconda3\\lib\\site-packages (2.4.1+cu118)\n",
      "Requirement already satisfied: torchvision in c:\\users\\atg\\anaconda3\\lib\\site-packages (0.19.1+cu118)\n",
      "Requirement already satisfied: torchaudio in c:\\users\\atg\\anaconda3\\lib\\site-packages (2.4.1+cu118)\n",
      "Requirement already satisfied: filelock in c:\\users\\atg\\anaconda3\\lib\\site-packages (from torch) (3.13.1)\n",
      "Requirement already satisfied: typing-extensions>=4.8.0 in c:\\users\\atg\\anaconda3\\lib\\site-packages (from torch) (4.11.0)\n",
      "Requirement already satisfied: sympy in c:\\users\\atg\\anaconda3\\lib\\site-packages (from torch) (1.12)\n",
      "Requirement already satisfied: networkx in c:\\users\\atg\\anaconda3\\lib\\site-packages (from torch) (3.2.1)\n",
      "Requirement already satisfied: jinja2 in c:\\users\\atg\\anaconda3\\lib\\site-packages (from torch) (3.1.4)\n",
      "Requirement already satisfied: fsspec in c:\\users\\atg\\anaconda3\\lib\\site-packages (from torch) (2024.9.0)\n",
      "Requirement already satisfied: setuptools in c:\\users\\atg\\anaconda3\\lib\\site-packages (from torch) (69.5.1)\n",
      "Requirement already satisfied: numpy in c:\\users\\atg\\anaconda3\\lib\\site-packages (from torchvision) (1.26.4)\n",
      "Requirement already satisfied: pillow!=8.3.*,>=5.3.0 in c:\\users\\atg\\anaconda3\\lib\\site-packages (from torchvision) (10.3.0)\n",
      "Requirement already satisfied: MarkupSafe>=2.0 in c:\\users\\atg\\anaconda3\\lib\\site-packages (from jinja2->torch) (2.1.3)\n",
      "Requirement already satisfied: mpmath>=0.19 in c:\\users\\atg\\anaconda3\\lib\\site-packages (from sympy->torch) (1.3.0)\n"
     ]
    }
   ],
   "source": [
    "# torch를 CUDA 버전으로 설치한다.\n",
    "!pip install torch torchvision torchaudio --index-url https://download.pytorch.org/whl/cu117"
   ]
  },
  {
   "cell_type": "code",
   "execution_count": 48,
   "id": "ac516c25-1dab-4824-8a19-e4734206c4e6",
   "metadata": {},
   "outputs": [
    {
     "name": "stdout",
     "output_type": "stream",
     "text": [
      "cuda:0\n"
     ]
    }
   ],
   "source": [
    "import torch\n",
    "device = torch.device(\"cuda:0\" if torch.cuda.is_available() else \"cpu\")\n",
    "print(device)"
   ]
  },
  {
   "cell_type": "code",
   "execution_count": 65,
   "id": "e8ca8b35-a6db-41ce-a6ae-7069fcc80d0a",
   "metadata": {},
   "outputs": [],
   "source": [
    "import os\n",
    "os.environ['CUDA_VISIBLE_DEVICES'] = '7'"
   ]
  },
  {
   "cell_type": "code",
   "execution_count": 94,
   "id": "e7883aea-105e-4447-9843-a9164f6b4c45",
   "metadata": {},
   "outputs": [
    {
     "name": "stdout",
     "output_type": "stream",
     "text": [
      "------- Config setting Done ------\n",
      "------------ Options -------------\n",
      "anormly_ratio: 1.0\n",
      "batch_size: 256\n",
      "data_path: dataset/MSL\n",
      "dataset: MSL\n",
      "input_c: 55\n",
      "k: 3\n",
      "lr: 0.0001\n",
      "mode: train\n",
      "model_save_path: checkpoints\n",
      "num_epochs: 3\n",
      "output_c: 55\n",
      "pretrained_model: None\n",
      "win_size: 100\n",
      "-------------- End ----------------\n",
      "test: (73729, 55)\n",
      "train: (58317, 55)\n",
      "test: (73729, 55)\n",
      "train: (58317, 55)\n",
      "test: (73729, 55)\n",
      "train: (58317, 55)\n",
      "test: (73729, 55)\n",
      "train: (58317, 55)\n",
      "======================TRAIN MODE======================\n",
      "======================TRAIN MODE1======================\n",
      "======================TRAIN MODE2======================\n",
      "======================TRAIN MODE3======================\n",
      "======================TRAIN MODE4======================\n",
      "======================TRAIN MODE5======================\n",
      "======================TRAIN MODE3======================\n",
      "======================TRAIN MODE4======================\n",
      "======================TRAIN MODE5======================\n"
     ]
    }
   ],
   "source": [
    "!python main.py --anormly_ratio 1 --num_epochs 3 --batch_size 256 --mode train --dataset MSL --data_path dataset/MSL --input_c 55 --output_c 55"
   ]
  },
  {
   "cell_type": "code",
   "execution_count": null,
   "id": "d04c485e-df55-406f-b97c-7f57ba4bbe23",
   "metadata": {},
   "outputs": [],
   "source": [
    "!python main.py --anormly_ratio 1 --num_epochs 10 --batch_size 256 --mode test --dataset MSL --data_path dataset/MSL --input_c 55 --output_c 55 --pretrained_model 20"
   ]
  },
  {
   "cell_type": "code",
   "execution_count": null,
   "id": "9757b8bc-ec9d-4c72-8c47-ead5501410d3",
   "metadata": {},
   "outputs": [],
   "source": []
  }
 ],
 "metadata": {
  "kernelspec": {
   "display_name": "Python 3 (ipykernel)",
   "language": "python",
   "name": "python3"
  },
  "language_info": {
   "codemirror_mode": {
    "name": "ipython",
    "version": 3
   },
   "file_extension": ".py",
   "mimetype": "text/x-python",
   "name": "python",
   "nbconvert_exporter": "python",
   "pygments_lexer": "ipython3",
   "version": "3.12.4"
  }
 },
 "nbformat": 4,
 "nbformat_minor": 5
}
